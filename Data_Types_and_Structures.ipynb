{
  "nbformat": 4,
  "nbformat_minor": 0,
  "metadata": {
    "colab": {
      "provenance": []
    },
    "kernelspec": {
      "name": "python3",
      "display_name": "Python 3"
    },
    "language_info": {
      "name": "python"
    }
  },
  "cells": [
    {
      "cell_type": "markdown",
      "source": [
        "1. What are data structures, and why are they important?\n",
        "   - Data structures are specialized formats for organizing, storing, and accessing data. They act like containers that hold data and define how we can interact with it.\n",
        "   Data structures are important because, choosing the right data structure can greatly improve the performance of a program. It helps to:\n",
        "    - Simplify tasks like adding, removing, or updating data.\n",
        "    - Make searching and sorting faster.\n",
        "    - Use memory more efficiently.\n",
        "\n",
        "2.  Explain the difference between mutable and immutable data types with examples.\n",
        "    - Mutable data types can be changed or modified after they are defined, while immutable data types cannot be modified once they are created.\n",
        "    - For example, lists are mutable because we can add or delete elements after defining them.\n",
        "    - Tuples, on the other hand, are immutable because we cannot add or remove elements from them once they are created.\n",
        "\n",
        "3. What are the main differences between lists and tuples in list?\n",
        "   - Here are the differences between the lists and the tuples.\n",
        "     - Lists are mutable, meaning their elements can be modified, added, or removed after the list is created, tuples are immutable, meaning once they are created, their elements cannot be altered.\n",
        "     - Becuase of mutability lists are more flexible and slower than tuples, and  tuples, being immutable, are generally faster and use less memory\n",
        "     \n",
        "4. Describe how dictionaries store data?\n",
        "   - Dictionaries store data as key - value pairs. Each key is unique, and it maps to a corresponding value. Key must be immutable, while values can be of any types.\n",
        "   -Exmaple: my_dict = {\"name\" : \"Anuruddh\", \"age\" : 23, \"city\" : \"Banglore\"}.\n",
        "\n",
        "\n",
        "5.  Why might you use a set instead of a list in Python?\n",
        "    - We can use set when we want to remove duplicate elments and sets do not preserve any specific order of elements, making them ideal when the order of items is not important.\n",
        "\n",
        "6. What is a string in Python, and how is it different from a list?\n",
        "   - String is the sequence of character, where each charecter represents the textual data, string is different from list becuase strings are immutable, meaning once a string is created, its content cannot be changed. List in Python is a collection of items that can include different data types such as numbers, strings, or even other lists. Lists are enclosed in square brackets and are mutable, meaning you can change, add, or remove elements after the list is created.\n",
        "\n",
        "7. How do tuples ensure data integrity in Python?\n",
        "   - Tuples ensure data integrity in Python because they are immutable, meaning their elements cannot be changed, added, or removed after creation. This immutability protects the data from accidental changes and ensures it remains consistent throughout the program.\n",
        "\n",
        "8.  What is a hash table, and how does it relate to dictionaries in python?\n",
        "    - A hash table is a data structure that stores key-value pairs and allows for fast access to values based on their keys. It uses a hash function to convert the key into an index in an array.\n",
        "    - In Python, a dictionary is an implementation of a hash table. When you create a dictionary and assign a value to a key, Python uses a hash function to store and retrieve the value quickly using that key.\n",
        "\n",
        "9.  Can lists contain different data types in Python?\n",
        "    - Yes, lists in Python can contain different data types. Python lists are heterogeneous, meaning a single list can store elements like integers, floats, strings, booleans, and even other lists or complex objects.\n",
        "           \n",
        "\n",
        "10. Explain why strings are immutable in Python.\n",
        "    - In Python, strings are immutable because once a string is created, its content cannot be changed.\n",
        "    - Strings can be used as keys in dictionaries because they are immutable. If strings could change, it would break the internal structure of hash tables, making key lookups unreliable.\n",
        "    - Immutability ensures that string data remains unchanged accidentally, especially when passed between functions or shared across different parts of a program.\n",
        "\n",
        "11. What advantages do dictionaries offer over lists for certain tasks?\n",
        "    - Dictionaries are better than lists when we need to quickly find data using a name or label. They store data in key-value pairs, making it easier to organize and access. Unlike lists, where we search by position, dictionaries let you search by a unique key, which is faster and more clear.\n",
        "\n",
        "12. Describe a scenario where using a tuple would be preferable over a list.\n",
        "    - A tuple is better than a list when we want to store a collection of items that should not change. For example, if we are storing the coordinates of a point like (10, 20), a tuple is better because the x and y values are fixed. Tuples are faster and take less memory than lists, and using them shows that the data is meant to stay the same.\n",
        "\n",
        "13. How do sets handle duplicate values in Python?\n",
        "    - In Python, sets do not allow duplicate values. If we try to add the same value more than once, the set will keep only one copy. This means every item in a set is unique.\n",
        "\n",
        "14. How does the “in” keyword work differently for lists and dictionaries?\n",
        "    - In Python, the word \"in\" is used to check if something exists. In a list, it checks if a value is in the list. For example, it can check if \"apple\" is one of the items in a fruit list. In a dictionary, it checks if a key is in the dictionary, not the value. So if we check for \"name\" in a dictionary, it will say yes if \"name\" is one of the keys. But checking for the value like \"Alice\" will say no unless it's a key.\n",
        "\n",
        "15. Can you modify the elements of a tuple? Explain why or why not.\n",
        "    - No, we cannot modify the elements of a tuple in Python. This is because tuples are immutable, which means their values cannot be changed after they are created. Once we make a tuple, we cannot add, remove, or change its items. This helps protect data that should stay the same, like dates or coordinates. If you need a collection that can change, it's better to use a list.\n",
        "\n",
        "16. What is a nested dictionary, and give an example of its use case?\n",
        "    - A nested dictionary is a dictionary where values are also dictionaries. It's used to store more complex or grouped data.\n",
        "      - Example: students = {\"101\": {\"name\": \"Alice\", \"age\": 20}}\n",
        "    - A nested dictionary is useful when we want to store related data together, like student records where each student ID maps to another dictionary holding their details.\n",
        "\n",
        "17. Describe the time complexity of accessing elements in a dictionary?\n",
        "    - Accessing elements in a dictionary has an average time complexity of O(1), meaning it takes constant time to look up a value using a key. This is because dictionaries in Python are implemented using hash tables, which allow direct access to elements by computing the hash of the key.\n",
        "\n",
        "18. In what situations are lists preferred over dictionaries?\n",
        "    - Lists are preferred over dictionaries when we need to preserve order, store simple collections without keys, iterate over elements, or allow duplicates. They're best for situations where key-value pairs are not necessary.\n",
        "\n",
        "19. Why are dictionaries considered unordered, and how does that affect data retrieval?\n",
        "    - Dictionaries are considered unordered because elements are accessed by keys, not positions. While Python maintains insertion order, dictionaries are optimized for fast key-based access, not for preserving order.\n",
        "\n",
        "20. Explain the difference between a list and a dictionary in terms of data retrieval.\n",
        "    - In a list, data is retrieved by its index, meaning we access elements based on their position in the list. In a dictionary, data is retrieved by key. Each key is unique, and we use it to directly access its associated value. This method is more efficient, with an average time complexity of O(1) for lookups, making it faster than accessing elements by index in a list.\n",
        "    \n"
      ],
      "metadata": {
        "id": "--GR4DxVp59f"
      }
    },
    {
      "cell_type": "code",
      "execution_count": 1,
      "metadata": {
        "id": "qDD-yTWhprZd",
        "colab": {
          "base_uri": "https://localhost:8080/"
        },
        "outputId": "cc36a73a-e4f2-46ce-d252-614ef5934c0f"
      },
      "outputs": [
        {
          "output_type": "stream",
          "name": "stdout",
          "text": [
            "Anuruddh Singh\n"
          ]
        }
      ],
      "source": [
        "# 1. Write a code to create a string with your name and print it?\n",
        "name = \"Anuruddh Singh\"\n",
        "print(name)"
      ]
    },
    {
      "cell_type": "code",
      "source": [
        "# 2. Write a code to find the length of the string \"Hello World\"?\n",
        "print(len(\"Hello World\"))\n"
      ],
      "metadata": {
        "colab": {
          "base_uri": "https://localhost:8080/"
        },
        "id": "4H9_R4WUWxxK",
        "outputId": "ac6be5d1-8edb-4f13-d9c2-941c923cf172"
      },
      "execution_count": 2,
      "outputs": [
        {
          "output_type": "stream",
          "name": "stdout",
          "text": [
            "11\n"
          ]
        }
      ]
    },
    {
      "cell_type": "code",
      "source": [
        "# 3. Write a code to slice the first 3 characters from the string \"Python Programming\".\n",
        "s = \"Python Programming\"\n",
        "s[0:3]"
      ],
      "metadata": {
        "colab": {
          "base_uri": "https://localhost:8080/",
          "height": 35
        },
        "id": "815n6X78XKuH",
        "outputId": "4b8d219c-6154-4428-8feb-edcdd49cbb7f"
      },
      "execution_count": 4,
      "outputs": [
        {
          "output_type": "execute_result",
          "data": {
            "text/plain": [
              "'Pyt'"
            ],
            "application/vnd.google.colaboratory.intrinsic+json": {
              "type": "string"
            }
          },
          "metadata": {},
          "execution_count": 4
        }
      ]
    },
    {
      "cell_type": "code",
      "source": [
        "# 4. Write a code to convert the string \"hello\" to uppercase?\n",
        "s = \"hello\"\n",
        "s_upper = s.upper()\n",
        "print(s_upper)"
      ],
      "metadata": {
        "colab": {
          "base_uri": "https://localhost:8080/"
        },
        "id": "3i7w0ZJUfO2E",
        "outputId": "5cb5a01b-fe74-4bc8-f846-b9be3e65e02d"
      },
      "execution_count": 6,
      "outputs": [
        {
          "output_type": "stream",
          "name": "stdout",
          "text": [
            "HELLO\n"
          ]
        }
      ]
    },
    {
      "cell_type": "code",
      "source": [
        "# 5. Write a code to replace the word \"apple\" with \"orange\" in the string \"I like apple\".\n",
        "text = 'I like apple'\n",
        "text.replace('apple','orange')\n"
      ],
      "metadata": {
        "colab": {
          "base_uri": "https://localhost:8080/",
          "height": 35
        },
        "id": "JuU48s09fmCF",
        "outputId": "c17f9fbe-5de2-47a2-de99-faca3fa0832c"
      },
      "execution_count": 9,
      "outputs": [
        {
          "output_type": "execute_result",
          "data": {
            "text/plain": [
              "'I like orange'"
            ],
            "application/vnd.google.colaboratory.intrinsic+json": {
              "type": "string"
            }
          },
          "metadata": {},
          "execution_count": 9
        }
      ]
    },
    {
      "cell_type": "code",
      "source": [
        "# 6. Write a code to create a list with numbers 1 to 5 and print it.\n",
        "lst = [1,2,3,4,5]\n",
        "print(lst)"
      ],
      "metadata": {
        "colab": {
          "base_uri": "https://localhost:8080/"
        },
        "id": "X84i3-qDgTFk",
        "outputId": "119856e7-3563-4a32-ecd8-b3e93402b0c0"
      },
      "execution_count": 10,
      "outputs": [
        {
          "output_type": "stream",
          "name": "stdout",
          "text": [
            "[1, 2, 3, 4, 5]\n"
          ]
        }
      ]
    },
    {
      "cell_type": "code",
      "source": [
        "# 7. Write a code to append the number 10 to the list [1, 2, 3, 4].\n",
        "lst = [1,2,3,4]\n",
        "lst.append(10)\n",
        "print(lst)"
      ],
      "metadata": {
        "colab": {
          "base_uri": "https://localhost:8080/"
        },
        "id": "wVV1k9cjgrMP",
        "outputId": "b49234ba-ccbf-4621-fc86-2a9108c3805b"
      },
      "execution_count": 11,
      "outputs": [
        {
          "output_type": "stream",
          "name": "stdout",
          "text": [
            "[1, 2, 3, 4, 10]\n"
          ]
        }
      ]
    },
    {
      "cell_type": "code",
      "source": [
        "# 8. Write a code to remove the number 3 from the list [1, 2, 3, 4, 5].\n",
        "lst = [1,2,3,4,5]\n",
        "lst.remove(3)\n",
        "print(lst)"
      ],
      "metadata": {
        "colab": {
          "base_uri": "https://localhost:8080/"
        },
        "id": "USlVvyBGhQRp",
        "outputId": "046e06df-46a4-4a53-a175-a0cfc8c9af04"
      },
      "execution_count": 12,
      "outputs": [
        {
          "output_type": "stream",
          "name": "stdout",
          "text": [
            "[1, 2, 4, 5]\n"
          ]
        }
      ]
    },
    {
      "cell_type": "code",
      "source": [
        "# 9. Write a code to access the second element in the list ['a', 'b', 'c', 'd'].\n",
        "lst = ['a','b','c','d']\n",
        "second_element=lst[1]\n",
        "print(second_element)"
      ],
      "metadata": {
        "colab": {
          "base_uri": "https://localhost:8080/"
        },
        "id": "_nzGmYrXhkCQ",
        "outputId": "80367226-859d-481c-a13b-155ed1d849bf"
      },
      "execution_count": 13,
      "outputs": [
        {
          "output_type": "stream",
          "name": "stdout",
          "text": [
            "b\n"
          ]
        }
      ]
    },
    {
      "cell_type": "code",
      "source": [
        "#10. Write a code to reverse the list [10, 20, 30, 40, 50].\n",
        "lst = [10, 20, 30, 40, 50]\n",
        "reversed_lst = lst[::-1]\n",
        "print(reversed_lst)"
      ],
      "metadata": {
        "colab": {
          "base_uri": "https://localhost:8080/"
        },
        "id": "BluG1_Ywim-d",
        "outputId": "b6d4f7e1-9c64-4bb3-ec27-fe0afe9d1a5c"
      },
      "execution_count": 17,
      "outputs": [
        {
          "output_type": "stream",
          "name": "stdout",
          "text": [
            "[50, 40, 30, 20, 10]\n"
          ]
        }
      ]
    },
    {
      "cell_type": "code",
      "source": [
        "#11. Write a code to create a tuple with the elements 100, 200, 300 and print it.\n",
        "tpl = (100, 200, 300)\n",
        "print(tpl)"
      ],
      "metadata": {
        "colab": {
          "base_uri": "https://localhost:8080/"
        },
        "id": "0A_g6252jCoh",
        "outputId": "7972d155-d5e0-450e-a5a4-5495d4dc0b9f"
      },
      "execution_count": 18,
      "outputs": [
        {
          "output_type": "stream",
          "name": "stdout",
          "text": [
            "(100, 200, 300)\n"
          ]
        }
      ]
    },
    {
      "cell_type": "code",
      "source": [
        "#12. Write a code to access the second-to-last element of the tuple ('red', 'green', 'blue', 'yellow').\n",
        "tpl = ('red', 'green', 'blue', 'yellow')\n",
        "tpl[1:]"
      ],
      "metadata": {
        "colab": {
          "base_uri": "https://localhost:8080/"
        },
        "id": "MFs-sr-Yk371",
        "outputId": "6ba154cf-2b5a-4cfa-bc9a-0d82fdcdb99f"
      },
      "execution_count": 19,
      "outputs": [
        {
          "output_type": "execute_result",
          "data": {
            "text/plain": [
              "('green', 'blue', 'yellow')"
            ]
          },
          "metadata": {},
          "execution_count": 19
        }
      ]
    },
    {
      "cell_type": "code",
      "source": [
        "#13. Write a code to find the minimum number in the tuple (10, 20, 5, 15).\n",
        "tple = (10, 20, 5, 15)\n",
        "min_number = min(tple)\n",
        "print(min_number)"
      ],
      "metadata": {
        "colab": {
          "base_uri": "https://localhost:8080/"
        },
        "id": "h-iwYwQflOx6",
        "outputId": "235a46d2-ad05-454b-af45-33b73ae3c776"
      },
      "execution_count": 21,
      "outputs": [
        {
          "output_type": "stream",
          "name": "stdout",
          "text": [
            "5\n"
          ]
        }
      ]
    },
    {
      "cell_type": "code",
      "source": [
        "#14. Write a code to find the index of the element \"cat\" in the tuple ('dog', 'cat', 'rabbit').\n",
        "tple = ('dog', 'cat', 'rabbit')\n",
        "indx = tple.index('cat')\n",
        "print(indx)"
      ],
      "metadata": {
        "colab": {
          "base_uri": "https://localhost:8080/"
        },
        "id": "vNjb15MLlpw3",
        "outputId": "10689203-1e7f-4572-f3cb-a2c785a2d12e"
      },
      "execution_count": 22,
      "outputs": [
        {
          "output_type": "stream",
          "name": "stdout",
          "text": [
            "1\n"
          ]
        }
      ]
    },
    {
      "cell_type": "code",
      "source": [
        "#15. Write a code to create a tuple containing three different fruits and check if \"kiwi\" is in it.\n",
        "fruits = ('apple', 'banana','kiwi')\n",
        "if 'kiwi' in fruits:\n",
        "  print('kiwi is  present in tuple')\n",
        "else:\n",
        "  print('kiwi is not present in tuple')"
      ],
      "metadata": {
        "colab": {
          "base_uri": "https://localhost:8080/"
        },
        "id": "0ms40Z12mNDx",
        "outputId": "b1585b62-6ff1-489c-8bf0-61a0927b4c2c"
      },
      "execution_count": 2,
      "outputs": [
        {
          "output_type": "stream",
          "name": "stdout",
          "text": [
            "kiwi is  present in tuple\n"
          ]
        }
      ]
    },
    {
      "cell_type": "code",
      "source": [
        "#16. Write a code to create a set with the elements 'a', 'b', 'c' and print it.\n",
        "s = {'a','b','c'} # created set s\n",
        "print(s)"
      ],
      "metadata": {
        "colab": {
          "base_uri": "https://localhost:8080/"
        },
        "id": "E7iiTZxgKCCW",
        "outputId": "7135da67-67ee-4576-b840-9c3e89eaec0b"
      },
      "execution_count": 3,
      "outputs": [
        {
          "output_type": "stream",
          "name": "stdout",
          "text": [
            "{'c', 'b', 'a'}\n"
          ]
        }
      ]
    },
    {
      "cell_type": "code",
      "source": [
        "#17. Write a code to clear all elements from the set {1, 2, 3, 4, 5}.\n",
        "s = {1, 2, 3, 4, 5}\n",
        "s.clear()\n",
        "print(s)"
      ],
      "metadata": {
        "colab": {
          "base_uri": "https://localhost:8080/"
        },
        "id": "-7I8VFhRKsK0",
        "outputId": "563e684d-77d8-4e3e-a1b0-b46149f8693d"
      },
      "execution_count": 5,
      "outputs": [
        {
          "output_type": "stream",
          "name": "stdout",
          "text": [
            "set()\n"
          ]
        }
      ]
    },
    {
      "cell_type": "code",
      "source": [
        "# 18. Write a code to remove the element 4 from the set {1, 2, 3, 4}.\n",
        "s = {1, 2, 3, 4}\n",
        "s.remove(4) #Removes 4 from the set s.\n",
        "print(s)"
      ],
      "metadata": {
        "colab": {
          "base_uri": "https://localhost:8080/"
        },
        "id": "eYTjc9ZLK64h",
        "outputId": "aa4d712f-6cb5-4e6c-d680-9be2da0db72b"
      },
      "execution_count": 7,
      "outputs": [
        {
          "output_type": "stream",
          "name": "stdout",
          "text": [
            "{1, 2, 3}\n"
          ]
        }
      ]
    },
    {
      "cell_type": "code",
      "source": [
        "#19. Write a code to find the union of two sets {1, 2, 3} and {3, 4, 5}.\n",
        "s1 = {1, 2, 3}\n",
        "s2 = {3, 4, 5}\n",
        "s3 = s1 | s2 # Union of set s1 and s2.\n",
        "print(s3)"
      ],
      "metadata": {
        "colab": {
          "base_uri": "https://localhost:8080/"
        },
        "id": "sIF-s-MYLdE2",
        "outputId": "ab87cd61-c2cf-414b-9d8f-29fd3c829a33"
      },
      "execution_count": 9,
      "outputs": [
        {
          "output_type": "stream",
          "name": "stdout",
          "text": [
            "{1, 2, 3, 4, 5}\n"
          ]
        }
      ]
    },
    {
      "cell_type": "code",
      "source": [
        "# 20. Write a code to find the intersection of two sets {1, 2, 3} and {2, 3, 4}.\n",
        "s1 = {1,2,3}\n",
        "s2 = {3,4,5}\n",
        "s3 = s1 & s2 # Union of the set s1 and s2\n",
        "print(s3)"
      ],
      "metadata": {
        "colab": {
          "base_uri": "https://localhost:8080/"
        },
        "id": "58kB4ilTL22O",
        "outputId": "54e4ab31-64c8-46ed-de0c-3a216f22152e"
      },
      "execution_count": 10,
      "outputs": [
        {
          "output_type": "stream",
          "name": "stdout",
          "text": [
            "{3}\n"
          ]
        }
      ]
    },
    {
      "cell_type": "code",
      "source": [
        "# 21. Write a code to create a dictionary with the keys \"name\", \"age\", and \"city\", and print it.\n",
        "my_dict = {'name': \"Anuruddh Singh\", 'age':23, 'city':'Kolkata'}\n",
        "print(my_dict)"
      ],
      "metadata": {
        "colab": {
          "base_uri": "https://localhost:8080/"
        },
        "id": "-hkdyWKgMKgl",
        "outputId": "f196ed70-0640-4ede-a097-b2f951daec22"
      },
      "execution_count": 11,
      "outputs": [
        {
          "output_type": "stream",
          "name": "stdout",
          "text": [
            "{'name': 'Anuruddh Singh', 'age': 23, 'city': 'Kolkata'}\n"
          ]
        }
      ]
    },
    {
      "cell_type": "code",
      "source": [
        "# 22. Write a code to add a new key-value pair \"country\": \"USA\" to the dictionary {'name': 'John', 'age': 25}.\n",
        "my_dict = {'name': 'John', 'age': 25}\n",
        "my_dict['country'] = 'USA'\n",
        "print(my_dict)"
      ],
      "metadata": {
        "colab": {
          "base_uri": "https://localhost:8080/"
        },
        "id": "Qew3V0mHMsdr",
        "outputId": "6526a5b4-84e6-4b27-bf91-8bd8c56e9736"
      },
      "execution_count": 13,
      "outputs": [
        {
          "output_type": "stream",
          "name": "stdout",
          "text": [
            "{'name': 'John', 'age': 25, 'country': 'USA'}\n"
          ]
        }
      ]
    },
    {
      "cell_type": "code",
      "source": [
        "#23. Write a code to access the value associated with the key \"name\" in the dictionary {'name': 'Alice', 'age': 30}.\n",
        "my_dict = {'name': 'Alice', 'age': 30}\n",
        "my_dict['name']"
      ],
      "metadata": {
        "colab": {
          "base_uri": "https://localhost:8080/",
          "height": 35
        },
        "id": "iqWUeArBONzf",
        "outputId": "96b8f7cf-fb71-4f87-9310-c477e44f1e8b"
      },
      "execution_count": 15,
      "outputs": [
        {
          "output_type": "execute_result",
          "data": {
            "text/plain": [
              "'Alice'"
            ],
            "application/vnd.google.colaboratory.intrinsic+json": {
              "type": "string"
            }
          },
          "metadata": {},
          "execution_count": 15
        }
      ]
    },
    {
      "cell_type": "code",
      "source": [
        "#24. Write a code to remove the key \"age\" from the dictionary {'name': 'Bob', 'age': 22, 'city': 'New York'}.\n",
        "d = {'name': 'Bob', 'age': 22, 'city': 'New York'}\n",
        "d.pop('age')\n",
        "print(d)\n"
      ],
      "metadata": {
        "colab": {
          "base_uri": "https://localhost:8080/"
        },
        "id": "zFMhzjVVOgP-",
        "outputId": "bd8f44bb-d979-42a1-a120-d3414b765264"
      },
      "execution_count": 18,
      "outputs": [
        {
          "output_type": "stream",
          "name": "stdout",
          "text": [
            "{'name': 'Bob', 'city': 'New York'}\n"
          ]
        }
      ]
    },
    {
      "cell_type": "code",
      "source": [
        "#25. Write a code to check if the key \"city\" exists in the dictionary {'name': 'Alice', 'city': 'Paris'}.\n",
        "d = {'name': 'Alice', 'city': 'Paris'}\n",
        "if 'city' in d.keys():\n",
        "  print('The key city exixts')\n",
        "else:\n",
        "  print('The key does not exists')"
      ],
      "metadata": {
        "colab": {
          "base_uri": "https://localhost:8080/"
        },
        "id": "TXXJLumdO7s9",
        "outputId": "53c8c372-60a9-45c0-df1d-3cb12cd6cf99"
      },
      "execution_count": 20,
      "outputs": [
        {
          "output_type": "stream",
          "name": "stdout",
          "text": [
            "The key city exixts\n"
          ]
        }
      ]
    },
    {
      "cell_type": "code",
      "source": [
        "#26. Write a code to create a list, a tuple, and a dictionary, and print them all.\n",
        "lst = [1,2,3,4] # list created\n",
        "tple = (1,2,3,4) # Tuple created\n",
        "my_dict = {\"name\":'Anuruddh Singh', 'age':23} # Dictionary created\n",
        "print(lst)\n",
        "print(tple)\n",
        "print(my_dict)"
      ],
      "metadata": {
        "colab": {
          "base_uri": "https://localhost:8080/"
        },
        "id": "78s23OlzP02J",
        "outputId": "6bc2f122-889e-4e40-fb0c-6719676bcedb"
      },
      "execution_count": 21,
      "outputs": [
        {
          "output_type": "stream",
          "name": "stdout",
          "text": [
            "[1, 2, 3, 4]\n",
            "(1, 2, 3, 4)\n",
            "{'name': 'Anuruddh Singh', 'age': 23}\n"
          ]
        }
      ]
    },
    {
      "cell_type": "code",
      "source": [
        "#27. Write a code to create a list of 5 random numbers between 1 and 100, sort it in ascending order, and print the result.\n",
        "import random\n",
        "\n",
        "numbers = random.sample(range(1, 101), 5)\n",
        "numbers.sort()\n",
        "print(numbers)"
      ],
      "metadata": {
        "colab": {
          "base_uri": "https://localhost:8080/"
        },
        "id": "nkWnNhrnQrtq",
        "outputId": "6132e2d1-6517-4adf-f9fe-520f80a3f380"
      },
      "execution_count": 22,
      "outputs": [
        {
          "output_type": "stream",
          "name": "stdout",
          "text": [
            "[40, 50, 51, 82, 92]\n"
          ]
        }
      ]
    },
    {
      "cell_type": "code",
      "source": [
        "#28. Write a code to create a list with strings and print the element at the third index.\n",
        "lst = ['name','apple','fruits','marks','age']\n",
        "print(lst[3]) # prints the element at the third index."
      ],
      "metadata": {
        "colab": {
          "base_uri": "https://localhost:8080/"
        },
        "id": "sX9vFfunRfFA",
        "outputId": "3a4d2482-9a3d-4600-a74b-2e442d18a0cc"
      },
      "execution_count": 25,
      "outputs": [
        {
          "output_type": "stream",
          "name": "stdout",
          "text": [
            "marks\n"
          ]
        }
      ]
    },
    {
      "cell_type": "code",
      "source": [
        "#29. Write a code to combine two dictionaries into one and print the result.\n",
        "dict1 = {\"name\": \"Aman\", \"age\": 25}\n",
        "dict2 = {\"city\": \"Banglore\", \"country\": \"India\"}\n",
        "dict1.update(dict2) # Combine dictionaries using the update() method\n",
        "print(dict1)\n",
        "\n"
      ],
      "metadata": {
        "colab": {
          "base_uri": "https://localhost:8080/"
        },
        "id": "UqMJ0sVWR6lR",
        "outputId": "a9c5d2a5-314c-4a29-dbe9-4ad15183d7ea"
      },
      "execution_count": 27,
      "outputs": [
        {
          "output_type": "stream",
          "name": "stdout",
          "text": [
            "{'name': 'Aman', 'age': 25, 'city': 'Banglore', 'country': 'India'}\n"
          ]
        }
      ]
    },
    {
      "cell_type": "code",
      "source": [
        "#30. Write a code to convert a list of strings into a set.\n",
        "strings = [\"apple\", \"banana\", \"cherry\", \"apple\", \"banana\"]\n",
        "unique_strings = set(strings)\n",
        "print(unique_strings)"
      ],
      "metadata": {
        "colab": {
          "base_uri": "https://localhost:8080/"
        },
        "id": "uKKyjkzKSyyW",
        "outputId": "cd2730d0-0b1c-4b8d-851f-9fb2fbd86400"
      },
      "execution_count": 28,
      "outputs": [
        {
          "output_type": "stream",
          "name": "stdout",
          "text": [
            "{'cherry', 'apple', 'banana'}\n"
          ]
        }
      ]
    }
  ]
}